{
 "cells": [
  {
   "cell_type": "code",
   "execution_count": 2,
   "metadata": {},
   "outputs": [
    {
     "name": "stdout",
     "output_type": "stream",
     "text": [
      "2.12.0\n",
      "2.12.0\n"
     ]
    }
   ],
   "source": [
    "import tensorflow as tf\n",
    "print(tf.__version__)          # Should be 2.12.0\n",
    "print(tf.keras.__version__)    # Should be 2.12.0\n"
   ]
  },
  {
   "cell_type": "code",
   "execution_count": 40,
   "metadata": {},
   "outputs": [],
   "source": [
    "from sklearn.preprocessing import LabelEncoder\n",
    "from sklearn.model_selection import train_test_split\n",
    "from tensorflow.keras.utils import to_categorical\n",
    "import os\n",
    "from PIL import Image\n",
    "import numpy as np \n",
    "import pandas as pd \n",
    "from tensorflow.keras.callbacks import EarlyStopping\n",
    "from tensorflow.keras.preprocessing.image import ImageDataGenerator\n",
    "from tensorflow.keras import models, layers\n",
    "import matplotlib.pyplot as plt\n",
    "from tensorflow.keras.optimizers import Adam\n",
    "from sklearn.utils import class_weight\n",
    "import keras_tuner as kt"
   ]
  },
  {
   "cell_type": "code",
   "execution_count": 65,
   "metadata": {},
   "outputs": [
    {
     "ename": "KeyError",
     "evalue": "'album_id'",
     "output_type": "error",
     "traceback": [
      "\u001b[31m---------------------------------------------------------------------------\u001b[39m",
      "\u001b[31mKeyError\u001b[39m                                  Traceback (most recent call last)",
      "\u001b[32m/var/folders/7t/dpwxgyj14sn5gpv6rfjdybcw0000gn/T/ipykernel_32467/689464417.py\u001b[39m in \u001b[36m?\u001b[39m\u001b[34m()\u001b[39m\n\u001b[32m      4\u001b[39m nudity_df = pd.read_csv(\u001b[33m\"nudity_detection_results.csv\"\u001b[39m)  \u001b[38;5;66;03m# Nudity detection results dataset\u001b[39;00m\n\u001b[32m      5\u001b[39m features_df = pd.read_csv(\u001b[33m\"album_features/album_clip_features_combined.csv\"\u001b[39m)  \u001b[38;5;66;03m# Additional features dataset\u001b[39;00m\n\u001b[32m      6\u001b[39m \n\u001b[32m      7\u001b[39m \u001b[38;5;66;03m# Merge the datasets using 'album_id' (ensure album_id is present in each)\u001b[39;00m\n\u001b[32m----> \u001b[39m\u001b[32m8\u001b[39m merged_df = df.merge(skin_df, on=\u001b[33m\"album_id\"\u001b[39m, how=\u001b[33m\"left\"\u001b[39m)\n\u001b[32m      9\u001b[39m merged_df = merged_df.merge(nudity_df, on=\u001b[33m\"album_id\"\u001b[39m, how=\u001b[33m\"left\"\u001b[39m)\n\u001b[32m     10\u001b[39m merged_df = merged_df.merge(features_df, on=\u001b[33m\"album_id\"\u001b[39m, how=\u001b[33m\"left\"\u001b[39m)\n\u001b[32m     11\u001b[39m \n",
      "\u001b[32m/opt/anaconda3/envs/new_env/lib/python3.11/site-packages/pandas/core/frame.py\u001b[39m in \u001b[36m?\u001b[39m\u001b[34m(self, right, how, on, left_on, right_on, left_index, right_index, sort, suffixes, copy, indicator, validate)\u001b[39m\n\u001b[32m  10828\u001b[39m         validate: MergeValidate | \u001b[38;5;28;01mNone\u001b[39;00m = \u001b[38;5;28;01mNone\u001b[39;00m,\n\u001b[32m  10829\u001b[39m     ) -> DataFrame:\n\u001b[32m  10830\u001b[39m         \u001b[38;5;28;01mfrom\u001b[39;00m pandas.core.reshape.merge \u001b[38;5;28;01mimport\u001b[39;00m merge\n\u001b[32m  10831\u001b[39m \n\u001b[32m> \u001b[39m\u001b[32m10832\u001b[39m         return merge(\n\u001b[32m  10833\u001b[39m             self,\n\u001b[32m  10834\u001b[39m             right,\n\u001b[32m  10835\u001b[39m             how=how,\n",
      "\u001b[32m/opt/anaconda3/envs/new_env/lib/python3.11/site-packages/pandas/core/reshape/merge.py\u001b[39m in \u001b[36m?\u001b[39m\u001b[34m(left, right, how, on, left_on, right_on, left_index, right_index, sort, suffixes, copy, indicator, validate)\u001b[39m\n\u001b[32m    166\u001b[39m             validate=validate,\n\u001b[32m    167\u001b[39m             copy=copy,\n\u001b[32m    168\u001b[39m         )\n\u001b[32m    169\u001b[39m     \u001b[38;5;28;01melse\u001b[39;00m:\n\u001b[32m--> \u001b[39m\u001b[32m170\u001b[39m         op = _MergeOperation(\n\u001b[32m    171\u001b[39m             left_df,\n\u001b[32m    172\u001b[39m             right_df,\n\u001b[32m    173\u001b[39m             how=how,\n",
      "\u001b[32m/opt/anaconda3/envs/new_env/lib/python3.11/site-packages/pandas/core/reshape/merge.py\u001b[39m in \u001b[36m?\u001b[39m\u001b[34m(self, left, right, how, on, left_on, right_on, left_index, right_index, sort, suffixes, indicator, validate)\u001b[39m\n\u001b[32m    790\u001b[39m             self.right_join_keys,\n\u001b[32m    791\u001b[39m             self.join_names,\n\u001b[32m    792\u001b[39m             left_drop,\n\u001b[32m    793\u001b[39m             right_drop,\n\u001b[32m--> \u001b[39m\u001b[32m794\u001b[39m         ) = self._get_merge_keys()\n\u001b[32m    795\u001b[39m \n\u001b[32m    796\u001b[39m         \u001b[38;5;28;01mif\u001b[39;00m left_drop:\n\u001b[32m    797\u001b[39m             self.left = self.left._drop_labels_or_levels(left_drop)\n",
      "\u001b[32m/opt/anaconda3/envs/new_env/lib/python3.11/site-packages/pandas/core/reshape/merge.py\u001b[39m in \u001b[36m?\u001b[39m\u001b[34m(self)\u001b[39m\n\u001b[32m   1293\u001b[39m                         \u001b[38;5;66;03m# Then we're either Hashable or a wrong-length arraylike,\u001b[39;00m\n\u001b[32m   1294\u001b[39m                         \u001b[38;5;66;03m#  the latter of which will raise\u001b[39;00m\n\u001b[32m   1295\u001b[39m                         rk = cast(Hashable, rk)\n\u001b[32m   1296\u001b[39m                         \u001b[38;5;28;01mif\u001b[39;00m rk \u001b[38;5;28;01mis\u001b[39;00m \u001b[38;5;28;01mnot\u001b[39;00m \u001b[38;5;28;01mNone\u001b[39;00m:\n\u001b[32m-> \u001b[39m\u001b[32m1297\u001b[39m                             right_keys.append(right._get_label_or_level_values(rk))\n\u001b[32m   1298\u001b[39m                         \u001b[38;5;28;01melse\u001b[39;00m:\n\u001b[32m   1299\u001b[39m                             \u001b[38;5;66;03m# work-around for merge_asof(right_index=True)\u001b[39;00m\n\u001b[32m   1300\u001b[39m                             right_keys.append(right.index._values)\n",
      "\u001b[32m/opt/anaconda3/envs/new_env/lib/python3.11/site-packages/pandas/core/generic.py\u001b[39m in \u001b[36m?\u001b[39m\u001b[34m(self, key, axis)\u001b[39m\n\u001b[32m   1907\u001b[39m             values = self.xs(key, axis=other_axes[\u001b[32m0\u001b[39m])._values\n\u001b[32m   1908\u001b[39m         \u001b[38;5;28;01melif\u001b[39;00m self._is_level_reference(key, axis=axis):\n\u001b[32m   1909\u001b[39m             values = self.axes[axis].get_level_values(key)._values\n\u001b[32m   1910\u001b[39m         \u001b[38;5;28;01melse\u001b[39;00m:\n\u001b[32m-> \u001b[39m\u001b[32m1911\u001b[39m             \u001b[38;5;28;01mraise\u001b[39;00m KeyError(key)\n\u001b[32m   1912\u001b[39m \n\u001b[32m   1913\u001b[39m         \u001b[38;5;66;03m# Check for duplicates\u001b[39;00m\n\u001b[32m   1914\u001b[39m         \u001b[38;5;28;01mif\u001b[39;00m values.ndim > \u001b[32m1\u001b[39m:\n",
      "\u001b[31mKeyError\u001b[39m: 'album_id'"
     ]
    }
   ],
   "source": [
    "# Load the datasets\n",
    "df = pd.read_csv(\"albums_genres_grouped.csv\")  # Main dataset with album details\n",
    "skin_df = pd.read_csv(\"skin_percentages.csv\")  # Skin percentage dataset\n",
    "nudity_df = pd.read_csv(\"nudity_detection_results.csv\")  # Nudity detection results dataset\n",
    "features_df = pd.read_csv(\"album_features/album_clip_features_combined.csv\")  # Additional features dataset\n",
    "\n",
    "# Merge the datasets using 'album_id' (ensure album_id is present in each)\n",
    "merged_df = df.merge(skin_df, on=\"album_id\", how=\"left\")\n",
    "merged_df = merged_df.merge(nudity_df, on=\"album_id\", how=\"left\")\n",
    "merged_df = merged_df.merge(features_df, on=\"album_id\", how=\"left\")\n",
    "\n",
    "# Print the merged dataframe to check the columns\n",
    "print(merged_df.head())"
   ]
  },
  {
   "cell_type": "code",
   "execution_count": 66,
   "metadata": {},
   "outputs": [
    {
     "name": "stdout",
     "output_type": "stream",
     "text": [
      "                 album_id                    image_filename\n",
      "0  0NGHR9zjS5eFFlqtClA9VV  image_0NGHR9zjS5eFFlqtClA9VV.jpg\n",
      "1  2fenSS68JI1h4Fo296JfGr  image_2fenSS68JI1h4Fo296JfGr.jpg\n",
      "2  0sOeI7pbAmIc8aDFyvkBUW  image_0sOeI7pbAmIc8aDFyvkBUW.jpg\n",
      "3  6n9DKpOxwifT5hOXtgLZSL  image_6n9DKpOxwifT5hOXtgLZSL.jpg\n",
      "4  2QRedhP5RmKJiJ1i8VgDGR  image_2QRedhP5RmKJiJ1i8VgDGR.jpg\n"
     ]
    }
   ],
   "source": [
    "# Assuming df contains album_id, create a column for the image filenames\n",
    "df['image_filename'] = df['album_id'].apply(lambda x: f\"image_{x}.jpg\")\n",
    "\n",
    "# Verify that the image filenames are correct\n",
    "print(df[['album_id', 'image_filename']].head())"
   ]
  },
  {
   "cell_type": "code",
   "execution_count": 4,
   "metadata": {},
   "outputs": [
    {
     "name": "stdout",
     "output_type": "stream",
     "text": [
      "Filtered DataFrame shape: (1480, 11)\n",
      "Loaded images: (1480, 64, 64, 3)\n",
      "Sample labels: ['relaxed' 'country/folk' 'country/folk' 'rap/hip hop' 'rap/hip hop']\n"
     ]
    }
   ],
   "source": [
    "# --- CONFIG ---\n",
    "image_folder = \"images\"\n",
    "image_size = (64, 64)\n",
    "label_column = \"genre_condensed\"  # 👈 use this for labels\n",
    "\n",
    "# --- Load CSV ---\n",
    "df = pd.read_csv(\"albums_genres_grouped.csv\")\n",
    "\n",
    "# Add matching filenames like image_0.jpg, image_1.jpg, etc.\n",
    "df['image_filename'] = df.index.map(lambda i: f\"image_{i}.jpg\")\n",
    "\n",
    "# Keep only rows where the image file exists\n",
    "df = df[df['image_filename'].apply(lambda x: os.path.isfile(os.path.join(image_folder, x)))]\n",
    "print(\"Filtered DataFrame shape:\", df.shape)\n",
    "\n",
    "# --- Load images and labels ---\n",
    "X, y = [], []\n",
    "\n",
    "for _, row in df.iterrows():\n",
    "    path = os.path.join(image_folder, row['image_filename'])\n",
    "    try:\n",
    "        img = Image.open(path).resize(image_size)\n",
    "        img_array = np.array(img) / 255.0\n",
    "        X.append(img_array)\n",
    "        y.append(row[label_column])  # ✅ using genre_condensed\n",
    "    except Exception as e:\n",
    "        print(f\"Error loading {path}: {e}\")\n",
    "\n",
    "X = np.array(X)\n",
    "y = np.array(y)\n",
    "\n",
    "print(\"Loaded images:\", X.shape)\n",
    "print(\"Sample labels:\", y[:5])\n",
    "\n"
   ]
  },
  {
   "cell_type": "code",
   "execution_count": 3,
   "metadata": {},
   "outputs": [
    {
     "name": "stdout",
     "output_type": "stream",
     "text": [
      "X dtype: float64\n",
      "X shape: (1480, 64, 64, 3)\n",
      "X size (MB): 138.75\n"
     ]
    }
   ],
   "source": [
    "print(\"X dtype:\", X.dtype)\n",
    "print(\"X shape:\", X.shape)\n",
    "print(\"X size (MB):\", X.nbytes / (1024 ** 2))\n"
   ]
  },
  {
   "cell_type": "code",
   "execution_count": 5,
   "metadata": {},
   "outputs": [
    {
     "name": "stdout",
     "output_type": "stream",
     "text": [
      "Encoding labels...\n",
      "Labels encoded.\n",
      "Splitting train/val...\n",
      "Data split complete.\n",
      "Train shape: (1184, 64, 64, 3)\n",
      "Validation shape: (296, 64, 64, 3)\n",
      "Classes: ['country/folk' 'electronic' 'indie' 'k-pop' 'kids' 'latin' 'metal' 'pop'\n",
      " 'r&b' 'rap/hip hop' 'reggae' 'relaxed' 'religious' 'rock' 'soul/jazz'\n",
      " 'unknown']\n"
     ]
    }
   ],
   "source": [
    "\n",
    "\n",
    "X = X.astype(np.float32)\n",
    "\n",
    "print(\"Encoding labels...\")\n",
    "label_encoder = LabelEncoder()\n",
    "y_encoded = label_encoder.fit_transform(y)\n",
    "y_categorical = to_categorical(y_encoded)\n",
    "print(\"Labels encoded.\")\n",
    "\n",
    "print(\"Splitting train/val...\")\n",
    "X_train, X_val, y_train, y_val = train_test_split(\n",
    "    X, y_categorical, test_size=0.2, stratify=y_categorical, random_state=42\n",
    ")\n",
    "print(\"Data split complete.\")\n",
    "\n",
    "print(\"Train shape:\", X_train.shape)\n",
    "print(\"Validation shape:\", X_val.shape)\n",
    "print(\"Classes:\", label_encoder.classes_)\n"
   ]
  },
  {
   "cell_type": "code",
   "execution_count": 58,
   "metadata": {},
   "outputs": [
    {
     "name": "stdout",
     "output_type": "stream",
     "text": [
      "Model: \"sequential_3\"\n",
      "_________________________________________________________________\n",
      " Layer (type)                Output Shape              Param #   \n",
      "=================================================================\n",
      " conv2d_7 (Conv2D)           (None, 62, 62, 64)        1792      \n",
      "                                                                 \n",
      " max_pooling2d_7 (MaxPooling  (None, 31, 31, 64)       0         \n",
      " 2D)                                                             \n",
      "                                                                 \n",
      " dropout_4 (Dropout)         (None, 31, 31, 64)        0         \n",
      "                                                                 \n",
      " conv2d_8 (Conv2D)           (None, 29, 29, 128)       73856     \n",
      "                                                                 \n",
      " max_pooling2d_8 (MaxPooling  (None, 14, 14, 128)      0         \n",
      " 2D)                                                             \n",
      "                                                                 \n",
      " dropout_5 (Dropout)         (None, 14, 14, 128)       0         \n",
      "                                                                 \n",
      " conv2d_9 (Conv2D)           (None, 12, 12, 256)       295168    \n",
      "                                                                 \n",
      " max_pooling2d_9 (MaxPooling  (None, 6, 6, 256)        0         \n",
      " 2D)                                                             \n",
      "                                                                 \n",
      " dropout_6 (Dropout)         (None, 6, 6, 256)         0         \n",
      "                                                                 \n",
      " flatten_3 (Flatten)         (None, 9216)              0         \n",
      "                                                                 \n",
      " dense_6 (Dense)             (None, 512)               4719104   \n",
      "                                                                 \n",
      " dropout_7 (Dropout)         (None, 512)               0         \n",
      "                                                                 \n",
      " dense_7 (Dense)             (None, 16)                8208      \n",
      "                                                                 \n",
      "=================================================================\n",
      "Total params: 5,098,128\n",
      "Trainable params: 5,098,128\n",
      "Non-trainable params: 0\n",
      "_________________________________________________________________\n"
     ]
    }
   ],
   "source": [
    "model = models.Sequential([\n",
    "    layers.Conv2D(64, (3, 3), activation='relu', input_shape=(64, 64, 3)),\n",
    "    layers.MaxPooling2D(2, 2),\n",
    "    layers.Dropout(0.3),\n",
    "\n",
    "    layers.Conv2D(128, (3, 3), activation='relu'),\n",
    "    layers.MaxPooling2D(2, 2),\n",
    "    layers.Dropout(0.4),\n",
    "\n",
    "    layers.Conv2D(256, (3, 3), activation='relu'),\n",
    "    layers.MaxPooling2D(2, 2),\n",
    "    layers.Dropout(0.5),\n",
    "\n",
    "    layers.Flatten(),\n",
    "    layers.Dense(512, activation='relu', kernel_regularizer=tf.keras.regularizers.l2(0.01)),\n",
    "    layers.Dropout(0.6),\n",
    "    layers.Dense(16, activation='softmax')  # Output for 16 classes\n",
    "])\n",
    "\n",
    "\n",
    "optimizer = Adam(learning_rate=0.00005)  # Lower the learning rate\n",
    "\n",
    "model.compile(\n",
    "    optimizer='adam',\n",
    "    loss='categorical_crossentropy',\n",
    "    metrics=['accuracy']\n",
    ")\n",
    "\n",
    "model.summary()\n"
   ]
  },
  {
   "cell_type": "code",
   "execution_count": 59,
   "metadata": {},
   "outputs": [],
   "source": [
    "datagen = ImageDataGenerator(\n",
    "    rotation_range=40,   # Increase the range\n",
    "    width_shift_range=0.3,\n",
    "    height_shift_range=0.3,\n",
    "    horizontal_flip=True,\n",
    "    zoom_range=0.3,\n",
    "    shear_range=0.3,\n",
    "    brightness_range=[0.8, 1.2]\n",
    ")\n",
    "\n",
    "datagen.fit(X_train)"
   ]
  },
  {
   "cell_type": "code",
   "execution_count": 60,
   "metadata": {},
   "outputs": [],
   "source": [
    "# --- Early Stopping to Prevent Overfitting ---\n",
    "early_stop = EarlyStopping(monitor='val_accuracy', patience=3, restore_best_weights=True)"
   ]
  },
  {
   "cell_type": "code",
   "execution_count": 61,
   "metadata": {},
   "outputs": [
    {
     "name": "stdout",
     "output_type": "stream",
     "text": [
      "{0: 0.5196629213483146, 1: 1.1419753086419753, 2: 0.9840425531914894, 3: 4.404761904761905, 4: 2.642857142857143, 5: 0.7007575757575758, 6: 2.010869565217391, 7: 0.38702928870292885, 8: 1.2671232876712328, 9: 0.28637770897832815, 10: 2.371794871794872, 11: 1.1708860759493671, 12: 3.7, 13: 1.4919354838709677, 14: 2.102272727272727, 15: 10.277777777777779}\n"
     ]
    }
   ],
   "source": [
    "# Compute class weights based on the imbalanced distribution\n",
    "class_weights = class_weight.compute_class_weight(\n",
    "    class_weight='balanced',  # Automatically balance the weights\n",
    "    classes=np.unique(y_encoded),  # Unique classes\n",
    "    y=y_encoded  # The labels\n",
    ")\n",
    "\n",
    "# Convert to a dictionary, as Keras requires this format\n",
    "class_weight_dict = dict(enumerate(class_weights))\n",
    "\n",
    "# Print class weights for reference\n",
    "print(class_weight_dict)"
   ]
  },
  {
   "cell_type": "code",
   "execution_count": 55,
   "metadata": {},
   "outputs": [
    {
     "name": "stdout",
     "output_type": "stream",
     "text": [
      "Class distribution: {0: 178, 1: 81, 2: 94, 3: 21, 4: 35, 5: 132, 6: 46, 7: 239, 8: 73, 9: 323, 10: 39, 11: 79, 12: 25, 13: 62, 14: 44, 15: 9}\n"
     ]
    }
   ],
   "source": [
    "unique, counts = np.unique(y_encoded, return_counts=True)\n",
    "print(\"Class distribution:\", dict(zip(unique, counts)))"
   ]
  },
  {
   "cell_type": "code",
   "execution_count": 62,
   "metadata": {},
   "outputs": [
    {
     "name": "stdout",
     "output_type": "stream",
     "text": [
      "Epoch 1/50\n"
     ]
    },
    {
     "name": "stderr",
     "output_type": "stream",
     "text": [
      "2025-04-18 12:18:24.597661: I tensorflow/core/common_runtime/executor.cc:1197] [/device:CPU:0] (DEBUG INFO) Executor start aborting (this does not indicate an error and you can ignore this message): INVALID_ARGUMENT: You must feed a value for placeholder tensor 'Placeholder/_0' with dtype int32\n",
      "\t [[{{node Placeholder/_0}}]]\n"
     ]
    },
    {
     "name": "stdout",
     "output_type": "stream",
     "text": [
      "37/37 [==============================] - 10s 242ms/step - loss: 4.8980 - accuracy: 0.1892 - val_loss: 3.0312 - val_accuracy: 0.2230\n",
      "Epoch 2/50\n",
      "37/37 [==============================] - 9s 229ms/step - loss: 2.6731 - accuracy: 0.2128 - val_loss: 2.7400 - val_accuracy: 0.2196\n",
      "Epoch 3/50\n",
      "37/37 [==============================] - 8s 229ms/step - loss: 2.5468 - accuracy: 0.2086 - val_loss: 2.7542 - val_accuracy: 0.2162\n",
      "Epoch 4/50\n",
      "37/37 [==============================] - 9s 236ms/step - loss: 2.5325 - accuracy: 0.2230 - val_loss: 2.6166 - val_accuracy: 0.2196\n"
     ]
    }
   ],
   "source": [
    "\n",
    "# --- Model Training ---\n",
    "history = model.fit(\n",
    "    datagen.flow(X_train, y_train, batch_size=32),\n",
    "    validation_data=(X_val, y_val),\n",
    "    epochs=50,\n",
    "    callbacks=[early_stop]\n",
    ")"
   ]
  },
  {
   "cell_type": "code",
   "execution_count": 50,
   "metadata": {},
   "outputs": [
    {
     "data": {
      "image/png": "[encoded data removed]",
      "text/plain": [
       "<Figure size 640x480 with 1 Axes>"
      ]
     },
     "metadata": {},
     "output_type": "display_data"
    },
    {
     "name": "stdout",
     "output_type": "stream",
     "text": [
      "10/10 [==============================] - 1s 77ms/step - loss: 2.5328 - accuracy: 0.2196\n",
      "Final Validation Accuracy: 0.2196\n"
     ]
    }
   ],
   "source": [
    "import matplotlib.pyplot as plt\n",
    "\n",
    "plt.plot(history.history['accuracy'], label='Train Accuracy')\n",
    "plt.plot(history.history['val_accuracy'], label='Validation Accuracy')\n",
    "plt.xlabel('Epoch')\n",
    "plt.ylabel('Accuracy')\n",
    "plt.title('Training vs Validation Accuracy')\n",
    "plt.legend()\n",
    "plt.grid(True)\n",
    "plt.show()\n",
    "\n",
    "val_loss, val_acc = model.evaluate(X_val, y_val)\n",
    "print(f\"Final Validation Accuracy: {val_acc:.4f}\")\n"
   ]
  },
  {
   "cell_type": "code",
   "execution_count": 41,
   "metadata": {},
   "outputs": [],
   "source": [
    "# Define the model function with hyperparameters\n",
    "def build_model(hp):\n",
    "    model = models.Sequential()\n",
    "\n",
    "    # Convolutional layers with tunable filters and kernel size\n",
    "    model.add(layers.Conv2D(\n",
    "        hp.Int('conv_1_filters', min_value=32, max_value=128, step=32),\n",
    "        (3, 3), activation='relu', input_shape=(64, 64, 3)\n",
    "    ))\n",
    "    model.add(layers.MaxPooling2D(2, 2))\n",
    "\n",
    "    model.add(layers.Conv2D(\n",
    "        hp.Int('conv_2_filters', min_value=32, max_value=128, step=32),\n",
    "        (3, 3), activation='relu'\n",
    "    ))\n",
    "    model.add(layers.MaxPooling2D(2, 2))\n",
    "\n",
    "    model.add(layers.Flatten())\n",
    "\n",
    "    # Dense layers with tunable units\n",
    "    model.add(layers.Dense(\n",
    "        hp.Int('dense_units', min_value=64, max_value=256, step=64),\n",
    "        activation='relu'\n",
    "    ))\n",
    "\n",
    "    model.add(layers.Dense(16, activation='softmax'))\n",
    "\n",
    "    # Compile the model with a tunable learning rate\n",
    "    model.compile(\n",
    "        optimizer=tf.keras.optimizers.Adam(\n",
    "            hp.Float('learning_rate', min_value=1e-4, max_value=1e-2, sampling='LOG')\n",
    "        ),\n",
    "        loss='categorical_crossentropy',\n",
    "        metrics=['accuracy']\n",
    "    )\n",
    "\n",
    "    return model\n"
   ]
  },
  {
   "cell_type": "code",
   "execution_count": 42,
   "metadata": {},
   "outputs": [],
   "source": [
    "tuner = kt.Hyperband(\n",
    "    build_model,  # Hypermodel function\n",
    "    objective='val_accuracy',  # What we're trying to optimize\n",
    "    max_epochs=10,  # Max number of epochs per trial\n",
    "    factor=3,  # Factor to increase resources at each step\n",
    "    directory='my_dir',  # Where to save results\n",
    "    project_name='hyperparameter_tuning'\n",
    ")\n"
   ]
  },
  {
   "cell_type": "code",
   "execution_count": 43,
   "metadata": {},
   "outputs": [
    {
     "name": "stdout",
     "output_type": "stream",
     "text": [
      "Trial 30 Complete [00h 00m 34s]\n",
      "val_accuracy: 0.23648647964000702\n",
      "\n",
      "Best val_accuracy So Far: 0.2702702581882477\n",
      "Total elapsed time: 00h 11m 29s\n"
     ]
    }
   ],
   "source": [
    "tuner.search(X_train, y_train, epochs=10, validation_data=(X_val, y_val))\n"
   ]
  },
  {
   "cell_type": "code",
   "execution_count": 44,
   "metadata": {},
   "outputs": [
    {
     "name": "stdout",
     "output_type": "stream",
     "text": [
      "Model: \"sequential\"\n",
      "_________________________________________________________________\n",
      " Layer (type)                Output Shape              Param #   \n",
      "=================================================================\n",
      " conv2d (Conv2D)             (None, 62, 62, 64)        1792      \n",
      "                                                                 \n",
      " max_pooling2d (MaxPooling2D  (None, 31, 31, 64)       0         \n",
      " )                                                               \n",
      "                                                                 \n",
      " conv2d_1 (Conv2D)           (None, 29, 29, 32)        18464     \n",
      "                                                                 \n",
      " max_pooling2d_1 (MaxPooling  (None, 14, 14, 32)       0         \n",
      " 2D)                                                             \n",
      "                                                                 \n",
      " flatten (Flatten)           (None, 6272)              0         \n",
      "                                                                 \n",
      " dense (Dense)               (None, 128)               802944    \n",
      "                                                                 \n",
      " dense_1 (Dense)             (None, 16)                2064      \n",
      "                                                                 \n",
      "=================================================================\n",
      "Total params: 825,264\n",
      "Trainable params: 825,264\n",
      "Non-trainable params: 0\n",
      "_________________________________________________________________\n"
     ]
    }
   ],
   "source": [
    "best_model = tuner.get_best_models(num_models=1)[0]\n",
    "best_model.summary()\n"
   ]
  }
 ],
 "metadata": {
  "kernelspec": {
   "display_name": "new_env",
   "language": "python",
   "name": "python3"
  },
  "language_info": {
   "codemirror_mode": {
    "name": "ipython",
    "version": 3
   },
   "file_extension": ".py",
   "mimetype": "text/x-python",
   "name": "python",
   "nbconvert_exporter": "python",
   "pygments_lexer": "ipython3",
   "version": "3.11.11"
  }
 },
 "nbformat": 4,
 "nbformat_minor": 2
}
