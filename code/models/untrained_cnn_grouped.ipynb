{
 "cells": [
  {
   "cell_type": "code",
   "execution_count": 1,
   "id": "e32dea9c",
   "metadata": {},
   "outputs": [],
   "source": [
    "import pandas as pd\n",
    "import os\n",
    "from PIL import Image\n",
    "import tensorflow as tf\n",
    "from tensorflow.keras.layers import RandomFlip, RandomRotation, RandomZoom\n",
    "from tensorflow.keras import layers, models, callbacks, regularizers\n",
    "import numpy as np\n",
    "import matplotlib.pyplot as plt\n",
    "from sklearn.metrics import confusion_matrix\n",
    "import seaborn as sns\n",
    "from tensorflow.keras.applications import EfficientNetB0\n",
    "from tensorflow.keras.applications.efficientnet import preprocess_input"
   ]
  },
  {
   "cell_type": "code",
   "execution_count": 24,
   "id": "7249ed78",
   "metadata": {},
   "outputs": [],
   "source": [
    "df = pd.read_csv('../data/new/albums_final.csv')"
   ]
  },
  {
   "cell_type": "code",
   "execution_count": 6,
   "id": "31211d73",
   "metadata": {},
   "outputs": [],
   "source": [
    "def train_album_classifier(df, img_dir, popularity_threshold=55, image_size=(64, 64), batch_size=32, epochs=50):\n",
    "    # 1. Bin popularity into binary class\n",
    "    df = df.copy()\n",
    "    df['popularity_class'] = df['popularity'].apply(lambda x: 1 if x >= popularity_threshold else 0)\n",
    "    label_column = 'popularity_class'\n",
    "\n",
    "    # 2. Load and preprocess images\n",
    "    X = []\n",
    "    y = []\n",
    "    for _, row in df.iterrows():\n",
    "        image_path = os.path.join(img_dir, f\"{row['album_id']}.jpg\")\n",
    "        try:\n",
    "            img = Image.open(image_path).resize(image_size)\n",
    "            img_array = np.array(img) / 255.0  # Normalize\n",
    "            X.append(img_array)\n",
    "            y.append(row[label_column])\n",
    "        except Exception as e:\n",
    "            print(f\"Error loading {image_path}: {e}\")\n",
    "\n",
    "    X = np.array(X)\n",
    "    y = np.array(y)\n",
    "\n",
    "    # 3. Create tf.data.Dataset\n",
    "    dataset = tf.data.Dataset.from_tensor_slices((X, y))\n",
    "    dataset = dataset.shuffle(buffer_size=len(X), reshuffle_each_iteration=False)\n",
    "\n",
    "    # 4. Train/val split\n",
    "    train_size = int(0.8 * len(X))\n",
    "    train_dataset = dataset.take(train_size)\n",
    "    val_dataset = dataset.skip(train_size)\n",
    "\n",
    "    # 5. Batch and prefetch\n",
    "    AUTOTUNE = tf.data.AUTOTUNE\n",
    "    train_dataset = train_dataset.batch(batch_size).prefetch(AUTOTUNE)\n",
    "    val_dataset = val_dataset.batch(batch_size).prefetch(AUTOTUNE)\n",
    "\n",
    "    # 6. Data augmentation\n",
    "    data_augmentation = tf.keras.Sequential([\n",
    "        RandomFlip(\"horizontal\"),\n",
    "        RandomRotation(0.1),\n",
    "        RandomZoom(0.1),\n",
    "    ])\n",
    "    def preprocess(image, label):\n",
    "        image = data_augmentation(image)\n",
    "        return image, label\n",
    "    train_dataset = train_dataset.map(preprocess, num_parallel_calls=AUTOTUNE)\n",
    "\n",
    "    # 7. Build model\n",
    "    model = models.Sequential([\n",
    "        layers.Conv2D(32, (3, 3), kernel_regularizer=regularizers.l2(0.001), input_shape=image_size + (3,)),\n",
    "        layers.BatchNormalization(),\n",
    "        layers.Activation('relu'),\n",
    "        layers.MaxPooling2D((2, 2)),\n",
    "        layers.Dropout(0.3),\n",
    "\n",
    "        layers.Conv2D(64, (3, 3), kernel_regularizer=regularizers.l2(0.001)),\n",
    "        layers.BatchNormalization(),\n",
    "        layers.Activation('relu'),\n",
    "        layers.MaxPooling2D((2, 2)),\n",
    "        layers.Dropout(0.3),\n",
    "\n",
    "        layers.Conv2D(64, (3, 3), kernel_regularizer=regularizers.l2(0.001)),\n",
    "        layers.BatchNormalization(),\n",
    "        layers.Activation('relu'),\n",
    "        layers.Dropout(0.3),\n",
    "\n",
    "        layers.Flatten(),\n",
    "        layers.Dense(64, kernel_regularizer=regularizers.l2(0.001)),\n",
    "        layers.BatchNormalization(),\n",
    "        layers.Activation('relu'),\n",
    "        layers.Dropout(0.5),\n",
    "\n",
    "        layers.Dense(1, activation='sigmoid')\n",
    "    ])\n",
    "\n",
    "    model.compile(\n",
    "        optimizer='adam',\n",
    "        loss='binary_crossentropy',\n",
    "        metrics=['accuracy']\n",
    "    )\n",
    "\n",
    "    early_stop = callbacks.EarlyStopping(monitor='val_loss', patience=3, restore_best_weights=True, verbose=1)\n",
    "\n",
    "    # 8. Train model\n",
    "    history = model.fit(train_dataset, validation_data=val_dataset, epochs=epochs, callbacks=[early_stop])\n",
    "\n",
    "    # 9. Evaluate with confusion matrix\n",
    "    y_pred_probs = model.predict(val_dataset)\n",
    "    y_pred_classes = (y_pred_probs > 0.5).astype(\"int32\")\n",
    "    y_true = np.concatenate([y for _, y in val_dataset], axis=0)\n",
    "\n",
    "    cm = confusion_matrix(y_true, y_pred_classes)\n",
    "    plt.figure(figsize=(6, 5))\n",
    "    sns.heatmap(cm, annot=True, fmt=\"d\", cmap=\"Blues\", xticklabels=[\"Not Top\", \"Top\"], yticklabels=[\"Not Top\", \"Top\"])\n",
    "    plt.title(\"Confusion Matrix\")\n",
    "    plt.xlabel(\"Predicted\")\n",
    "    plt.ylabel(\"True\")\n",
    "    plt.show()\n",
    "\n",
    "    return model, history\n"
   ]
  },
  {
   "cell_type": "code",
   "execution_count": 7,
   "id": "4ffc6fce",
   "metadata": {},
   "outputs": [
    {
     "name": "stdout",
     "output_type": "stream",
     "text": [
      "Epoch 1/50\n"
     ]
    },
    {
     "name": "stderr",
     "output_type": "stream",
     "text": [
      "/opt/anaconda3/envs/dsan6600/lib/python3.11/site-packages/keras/src/layers/convolutional/base_conv.py:107: UserWarning: Do not pass an `input_shape`/`input_dim` argument to a layer. When using Sequential models, prefer using an `Input(shape)` object as the first layer in the model instead.\n",
      "  super().__init__(activity_regularizer=activity_regularizer, **kwargs)\n"
     ]
    },
    {
     "name": "stdout",
     "output_type": "stream",
     "text": [
      "\u001b[1m83/83\u001b[0m \u001b[32m━━━━━━━━━━━━━━━━━━━━\u001b[0m\u001b[37m\u001b[0m \u001b[1m7s\u001b[0m 57ms/step - accuracy: 0.5403 - loss: 1.0671 - val_accuracy: 0.4468 - val_loss: 0.9556\n",
      "Epoch 2/50\n",
      "\u001b[1m83/83\u001b[0m \u001b[32m━━━━━━━━━━━━━━━━━━━━\u001b[0m\u001b[37m\u001b[0m \u001b[1m4s\u001b[0m 53ms/step - accuracy: 0.5016 - loss: 1.0348 - val_accuracy: 0.4787 - val_loss: 0.9388\n",
      "Epoch 3/50\n",
      "\u001b[1m83/83\u001b[0m \u001b[32m━━━━━━━━━━━━━━━━━━━━\u001b[0m\u001b[37m\u001b[0m \u001b[1m4s\u001b[0m 52ms/step - accuracy: 0.5160 - loss: 1.0079 - val_accuracy: 0.4772 - val_loss: 0.9282\n",
      "Epoch 4/50\n",
      "\u001b[1m83/83\u001b[0m \u001b[32m━━━━━━━━━━━━━━━━━━━━\u001b[0m\u001b[37m\u001b[0m \u001b[1m4s\u001b[0m 51ms/step - accuracy: 0.5373 - loss: 0.9566 - val_accuracy: 0.5106 - val_loss: 0.9020\n",
      "Epoch 5/50\n",
      "\u001b[1m83/83\u001b[0m \u001b[32m━━━━━━━━━━━━━━━━━━━━\u001b[0m\u001b[37m\u001b[0m \u001b[1m4s\u001b[0m 53ms/step - accuracy: 0.5430 - loss: 0.9350 - val_accuracy: 0.4985 - val_loss: 0.8958\n",
      "Epoch 6/50\n",
      "\u001b[1m83/83\u001b[0m \u001b[32m━━━━━━━━━━━━━━━━━━━━\u001b[0m\u001b[37m\u001b[0m \u001b[1m4s\u001b[0m 53ms/step - accuracy: 0.5338 - loss: 0.9176 - val_accuracy: 0.4954 - val_loss: 0.8738\n",
      "Epoch 7/50\n",
      "\u001b[1m83/83\u001b[0m \u001b[32m━━━━━━━━━━━━━━━━━━━━\u001b[0m\u001b[37m\u001b[0m \u001b[1m4s\u001b[0m 51ms/step - accuracy: 0.5345 - loss: 0.8935 - val_accuracy: 0.5198 - val_loss: 0.8523\n",
      "Epoch 8/50\n",
      "\u001b[1m83/83\u001b[0m \u001b[32m━━━━━━━━━━━━━━━━━━━━\u001b[0m\u001b[37m\u001b[0m \u001b[1m4s\u001b[0m 53ms/step - accuracy: 0.5374 - loss: 0.8568 - val_accuracy: 0.5365 - val_loss: 0.8427\n",
      "Epoch 9/50\n",
      "\u001b[1m83/83\u001b[0m \u001b[32m━━━━━━━━━━━━━━━━━━━━\u001b[0m\u001b[37m\u001b[0m \u001b[1m5s\u001b[0m 55ms/step - accuracy: 0.5311 - loss: 0.8540 - val_accuracy: 0.5213 - val_loss: 0.8272\n",
      "Epoch 10/50\n",
      "\u001b[1m83/83\u001b[0m \u001b[32m━━━━━━━━━━━━━━━━━━━━\u001b[0m\u001b[37m\u001b[0m \u001b[1m5s\u001b[0m 56ms/step - accuracy: 0.5567 - loss: 0.8299 - val_accuracy: 0.5198 - val_loss: 0.8233\n",
      "Epoch 11/50\n",
      "\u001b[1m83/83\u001b[0m \u001b[32m━━━━━━━━━━━━━━━━━━━━\u001b[0m\u001b[37m\u001b[0m \u001b[1m5s\u001b[0m 55ms/step - accuracy: 0.5391 - loss: 0.8254 - val_accuracy: 0.5350 - val_loss: 0.8090\n",
      "Epoch 12/50\n",
      "\u001b[1m83/83\u001b[0m \u001b[32m━━━━━━━━━━━━━━━━━━━━\u001b[0m\u001b[37m\u001b[0m \u001b[1m5s\u001b[0m 57ms/step - accuracy: 0.5552 - loss: 0.8129 - val_accuracy: 0.5274 - val_loss: 0.8215\n",
      "Epoch 13/50\n",
      "\u001b[1m83/83\u001b[0m \u001b[32m━━━━━━━━━━━━━━━━━━━━\u001b[0m\u001b[37m\u001b[0m \u001b[1m5s\u001b[0m 56ms/step - accuracy: 0.5584 - loss: 0.7939 - val_accuracy: 0.5258 - val_loss: 0.8009\n",
      "Epoch 14/50\n",
      "\u001b[1m83/83\u001b[0m \u001b[32m━━━━━━━━━━━━━━━━━━━━\u001b[0m\u001b[37m\u001b[0m \u001b[1m5s\u001b[0m 55ms/step - accuracy: 0.5501 - loss: 0.7888 - val_accuracy: 0.5319 - val_loss: 0.7973\n",
      "Epoch 15/50\n",
      "\u001b[1m83/83\u001b[0m \u001b[32m━━━━━━━━━━━━━━━━━━━━\u001b[0m\u001b[37m\u001b[0m \u001b[1m5s\u001b[0m 54ms/step - accuracy: 0.5518 - loss: 0.7858 - val_accuracy: 0.5122 - val_loss: 0.7948\n",
      "Epoch 16/50\n",
      "\u001b[1m83/83\u001b[0m \u001b[32m━━━━━━━━━━━━━━━━━━━━\u001b[0m\u001b[37m\u001b[0m \u001b[1m4s\u001b[0m 52ms/step - accuracy: 0.5575 - loss: 0.7765 - val_accuracy: 0.5274 - val_loss: 0.7807\n",
      "Epoch 17/50\n",
      "\u001b[1m83/83\u001b[0m \u001b[32m━━━━━━━━━━━━━━━━━━━━\u001b[0m\u001b[37m\u001b[0m \u001b[1m4s\u001b[0m 48ms/step - accuracy: 0.5786 - loss: 0.7584 - val_accuracy: 0.5258 - val_loss: 0.7740\n",
      "Epoch 18/50\n",
      "\u001b[1m83/83\u001b[0m \u001b[32m━━━━━━━━━━━━━━━━━━━━\u001b[0m\u001b[37m\u001b[0m \u001b[1m4s\u001b[0m 48ms/step - accuracy: 0.5464 - loss: 0.7624 - val_accuracy: 0.5365 - val_loss: 0.7663\n",
      "Epoch 19/50\n",
      "\u001b[1m83/83\u001b[0m \u001b[32m━━━━━━━━━━━━━━━━━━━━\u001b[0m\u001b[37m\u001b[0m \u001b[1m4s\u001b[0m 47ms/step - accuracy: 0.5828 - loss: 0.7506 - val_accuracy: 0.5334 - val_loss: 0.7674\n",
      "Epoch 20/50\n",
      "\u001b[1m83/83\u001b[0m \u001b[32m━━━━━━━━━━━━━━━━━━━━\u001b[0m\u001b[37m\u001b[0m \u001b[1m4s\u001b[0m 49ms/step - accuracy: 0.5771 - loss: 0.7490 - val_accuracy: 0.5471 - val_loss: 0.7723\n",
      "Epoch 21/50\n",
      "\u001b[1m83/83\u001b[0m \u001b[32m━━━━━━━━━━━━━━━━━━━━\u001b[0m\u001b[37m\u001b[0m \u001b[1m4s\u001b[0m 48ms/step - accuracy: 0.5656 - loss: 0.7496 - val_accuracy: 0.5182 - val_loss: 0.7625\n",
      "Epoch 22/50\n",
      "\u001b[1m83/83\u001b[0m \u001b[32m━━━━━━━━━━━━━━━━━━━━\u001b[0m\u001b[37m\u001b[0m \u001b[1m4s\u001b[0m 50ms/step - accuracy: 0.5781 - loss: 0.7427 - val_accuracy: 0.5395 - val_loss: 0.7580\n",
      "Epoch 23/50\n",
      "\u001b[1m83/83\u001b[0m \u001b[32m━━━━━━━━━━━━━━━━━━━━\u001b[0m\u001b[37m\u001b[0m \u001b[1m4s\u001b[0m 51ms/step - accuracy: 0.5510 - loss: 0.7524 - val_accuracy: 0.5623 - val_loss: 0.7540\n",
      "Epoch 24/50\n",
      "\u001b[1m83/83\u001b[0m \u001b[32m━━━━━━━━━━━━━━━━━━━━\u001b[0m\u001b[37m\u001b[0m \u001b[1m4s\u001b[0m 53ms/step - accuracy: 0.5909 - loss: 0.7381 - val_accuracy: 0.5547 - val_loss: 0.7546\n",
      "Epoch 25/50\n",
      "\u001b[1m83/83\u001b[0m \u001b[32m━━━━━━━━━━━━━━━━━━━━\u001b[0m\u001b[37m\u001b[0m \u001b[1m5s\u001b[0m 61ms/step - accuracy: 0.5525 - loss: 0.7480 - val_accuracy: 0.5334 - val_loss: 0.7585\n",
      "Epoch 26/50\n",
      "\u001b[1m83/83\u001b[0m \u001b[32m━━━━━━━━━━━━━━━━━━━━\u001b[0m\u001b[37m\u001b[0m \u001b[1m5s\u001b[0m 59ms/step - accuracy: 0.5756 - loss: 0.7425 - val_accuracy: 0.5228 - val_loss: 0.7515\n",
      "Epoch 27/50\n",
      "\u001b[1m83/83\u001b[0m \u001b[32m━━━━━━━━━━━━━━━━━━━━\u001b[0m\u001b[37m\u001b[0m \u001b[1m5s\u001b[0m 55ms/step - accuracy: 0.5627 - loss: 0.7417 - val_accuracy: 0.5274 - val_loss: 0.7439\n",
      "Epoch 28/50\n",
      "\u001b[1m83/83\u001b[0m \u001b[32m━━━━━━━━━━━━━━━━━━━━\u001b[0m\u001b[37m\u001b[0m \u001b[1m4s\u001b[0m 52ms/step - accuracy: 0.5799 - loss: 0.7378 - val_accuracy: 0.5258 - val_loss: 0.7536\n",
      "Epoch 29/50\n",
      "\u001b[1m83/83\u001b[0m \u001b[32m━━━━━━━━━━━━━━━━━━━━\u001b[0m\u001b[37m\u001b[0m \u001b[1m4s\u001b[0m 52ms/step - accuracy: 0.5551 - loss: 0.7386 - val_accuracy: 0.5243 - val_loss: 0.7579\n",
      "Epoch 30/50\n",
      "\u001b[1m83/83\u001b[0m \u001b[32m━━━━━━━━━━━━━━━━━━━━\u001b[0m\u001b[37m\u001b[0m \u001b[1m4s\u001b[0m 52ms/step - accuracy: 0.5935 - loss: 0.7277 - val_accuracy: 0.5243 - val_loss: 0.7500\n",
      "Epoch 30: early stopping\n",
      "Restoring model weights from the end of the best epoch: 27.\n",
      "\u001b[1m21/21\u001b[0m \u001b[32m━━━━━━━━━━━━━━━━━━━━\u001b[0m\u001b[37m\u001b[0m \u001b[1m0s\u001b[0m 12ms/step\n"
     ]
    },
    {
     "data": {
      "image/png": "[encoded data removed]",
      "text/plain": [
       "<Figure size 600x500 with 2 Axes>"
      ]
     },
     "metadata": {},
     "output_type": "display_data"
    }
   ],
   "source": [
    "model, history = train_album_classifier(df, img_dir='../../album_images')"
   ]
  },
  {
   "cell_type": "code",
   "execution_count": 25,
   "id": "5c93c93b",
   "metadata": {},
   "outputs": [
    {
     "name": "stdout",
     "output_type": "stream",
     "text": [
      "<class 'pandas.core.frame.DataFrame'>\n",
      "RangeIndex: 3289 entries, 0 to 3288\n",
      "Data columns (total 10 columns):\n",
      " #   Column           Non-Null Count  Dtype \n",
      "---  ------           --------------  ----- \n",
      " 0   artist_name      3289 non-null   object\n",
      " 1   artist_id        3289 non-null   object\n",
      " 2   genre            3289 non-null   object\n",
      " 3   album_id         3289 non-null   object\n",
      " 4   album_name       3289 non-null   object\n",
      " 5   release_date     3289 non-null   object\n",
      " 6   total_tracks     3289 non-null   int64 \n",
      " 7   popularity       3289 non-null   int64 \n",
      " 8   image_url        3289 non-null   object\n",
      " 9   genre_condensed  3289 non-null   object\n",
      "dtypes: int64(2), object(8)\n",
      "memory usage: 257.1+ KB\n"
     ]
    }
   ],
   "source": [
    "genres = pd.read_csv('../data/new/albums_with_final_genres.csv')\n",
    "genres.info()\n"
   ]
  },
  {
   "cell_type": "code",
   "execution_count": 26,
   "id": "a357cd28",
   "metadata": {},
   "outputs": [
    {
     "name": "stdout",
     "output_type": "stream",
     "text": [
      "<class 'pandas.core.frame.DataFrame'>\n",
      "RangeIndex: 860 entries, 0 to 859\n",
      "Data columns (total 2 columns):\n",
      " #   Column  Non-Null Count  Dtype \n",
      "---  ------  --------------  ----- \n",
      " 0   name    860 non-null    object\n",
      " 1   gender  860 non-null    object\n",
      "dtypes: object(2)\n",
      "memory usage: 13.6+ KB\n"
     ]
    }
   ],
   "source": [
    "genders = pd.read_csv('../data/new/artist_genders_more_women.csv')\n",
    "genders.info()"
   ]
  },
  {
   "cell_type": "code",
   "execution_count": 27,
   "id": "9267e26c",
   "metadata": {},
   "outputs": [],
   "source": [
    "df = df.merge(genders, how='left', left_on='artist_name', right_on='name')\n",
    "df.drop(columns='name', inplace=True)  # remove the duplicate name column"
   ]
  },
  {
   "cell_type": "code",
   "execution_count": 28,
   "id": "448ec8b5",
   "metadata": {},
   "outputs": [
    {
     "name": "stdout",
     "output_type": "stream",
     "text": [
      "<class 'pandas.core.frame.DataFrame'>\n",
      "RangeIndex: 3289 entries, 0 to 3288\n",
      "Data columns (total 10 columns):\n",
      " #   Column        Non-Null Count  Dtype \n",
      "---  ------        --------------  ----- \n",
      " 0   artist_name   3289 non-null   object\n",
      " 1   artist_id     3289 non-null   object\n",
      " 2   genre         3289 non-null   object\n",
      " 3   album_id      3289 non-null   object\n",
      " 4   album_name    3289 non-null   object\n",
      " 5   release_date  3289 non-null   object\n",
      " 6   total_tracks  3289 non-null   int64 \n",
      " 7   popularity    3289 non-null   int64 \n",
      " 8   image_url     3289 non-null   object\n",
      " 9   gender        3225 non-null   object\n",
      "dtypes: int64(2), object(8)\n",
      "memory usage: 257.1+ KB\n"
     ]
    }
   ],
   "source": [
    "df.info()"
   ]
  },
  {
   "cell_type": "code",
   "execution_count": 29,
   "id": "040722e3",
   "metadata": {},
   "outputs": [],
   "source": [
    "# Again, dedupe genre info only\n",
    "genres_deduped = genres[['album_id', 'genre_condensed']].drop_duplicates(subset='album_id')\n",
    "\n",
    "# Merge with original df (even if df has duplicate album_ids, this will only expand if genre_deduped still has dups)\n",
    "df = df.merge(genres_deduped, on='album_id', how='left')\n"
   ]
  },
  {
   "cell_type": "code",
   "execution_count": 30,
   "id": "dfb4ec16",
   "metadata": {},
   "outputs": [
    {
     "name": "stdout",
     "output_type": "stream",
     "text": [
      "<class 'pandas.core.frame.DataFrame'>\n",
      "RangeIndex: 3289 entries, 0 to 3288\n",
      "Data columns (total 11 columns):\n",
      " #   Column           Non-Null Count  Dtype \n",
      "---  ------           --------------  ----- \n",
      " 0   artist_name      3289 non-null   object\n",
      " 1   artist_id        3289 non-null   object\n",
      " 2   genre            3289 non-null   object\n",
      " 3   album_id         3289 non-null   object\n",
      " 4   album_name       3289 non-null   object\n",
      " 5   release_date     3289 non-null   object\n",
      " 6   total_tracks     3289 non-null   int64 \n",
      " 7   popularity       3289 non-null   int64 \n",
      " 8   image_url        3289 non-null   object\n",
      " 9   gender           3225 non-null   object\n",
      " 10  genre_condensed  3289 non-null   object\n",
      "dtypes: int64(2), object(9)\n",
      "memory usage: 282.8+ KB\n"
     ]
    }
   ],
   "source": [
    "df.info()"
   ]
  }
 ],
 "metadata": {
  "kernelspec": {
   "display_name": "dsan6600",
   "language": "python",
   "name": "python3"
  },
  "language_info": {
   "codemirror_mode": {
    "name": "ipython",
    "version": 3
   },
   "file_extension": ".py",
   "mimetype": "text/x-python",
   "name": "python",
   "nbconvert_exporter": "python",
   "pygments_lexer": "ipython3",
   "version": "3.11.8"
  }
 },
 "nbformat": 4,
 "nbformat_minor": 5
}
